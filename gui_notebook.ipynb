{
 "cells": [
  {
   "cell_type": "code",
   "execution_count": null,
   "id": "initial_id",
   "metadata": {
    "ExecuteTime": {
     "end_time": "2024-09-19T18:29:34.944956Z",
     "start_time": "2024-09-19T18:29:34.362096Z"
    }
   },
   "outputs": [],
   "source": [
    "import panel as pn\n",
    "from gui import View\n",
    "\n",
    "pn.extension(\"terminal\")"
   ]
  },
  {
   "cell_type": "code",
   "execution_count": null,
   "id": "c58dc8110f4e3dc5",
   "metadata": {
    "ExecuteTime": {
     "end_time": "2024-09-19T18:29:34.957163Z",
     "start_time": "2024-09-19T18:29:34.954979Z"
    }
   },
   "outputs": [],
   "source": [
    "view = View()\n"
   ]
  },
  {
   "cell_type": "code",
   "execution_count": null,
   "id": "2e950427736f92b3",
   "metadata": {
    "ExecuteTime": {
     "end_time": "2024-09-19T18:29:35.074476Z",
     "start_time": "2024-09-19T18:29:35.061370Z"
    }
   },
   "outputs": [],
   "source": [
    "view.servable()"
   ]
  },
  {
   "cell_type": "code",
   "execution_count": null,
   "id": "d42ef0e7-a02a-4c1b-b939-f4aec2a426d9",
   "metadata": {},
   "outputs": [],
   "source": [
    "for i in range(3):\n",
    "    print(\"hello\")\n",
    "    print(\"world\")"
   ]
  },
  {
   "cell_type": "code",
   "execution_count": null,
   "id": "f9a1c5a5-b438-4e29-93e6-cde901a2506d",
   "metadata": {},
   "outputs": [],
   "source": []
  }
 ],
 "metadata": {
  "kernelspec": {
   "display_name": "Python 3 (ipykernel)",
   "language": "python",
   "name": "python3"
  },
  "language_info": {
   "codemirror_mode": {
    "name": "ipython",
    "version": 3
   },
   "file_extension": ".py",
   "mimetype": "text/x-python",
   "name": "python",
   "nbconvert_exporter": "python",
   "pygments_lexer": "ipython3",
   "version": "3.11.9"
  }
 },
 "nbformat": 4,
 "nbformat_minor": 5
}
